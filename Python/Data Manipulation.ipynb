{
 "cells": [
  {
   "cell_type": "code",
   "execution_count": 3,
   "id": "5acef661",
   "metadata": {},
   "outputs": [],
   "source": [
    "import numpy as np\n",
    "import matplotlib.pyplot as plt\n",
    "import pandas as pd"
   ]
  },
  {
   "cell_type": "code",
   "execution_count": 14,
   "id": "5977b750",
   "metadata": {},
   "outputs": [],
   "source": [
    "#Dataset\n",
    "homelessness = pd.read_csv('./Data set/homelessness.csv')"
   ]
  },
  {
   "cell_type": "markdown",
   "id": "38ee05a0",
   "metadata": {},
   "source": [
    "## Inspecting a DataFrame\n",
    "\n",
    "When you get a new DataFrame to work with, the first thing you need to do is explore it and see what it contains. There are several useful methods and attributes for this.\n",
    "\n",
    "* .head() returns the first few rows (the “head” of the DataFrame).\n",
    "* .info() shows information on each of the columns, such as the data type and number of missing values.\n",
    "* .shape returns the number of rows and columns of the DataFrame.\n",
    "* .describe() calculates a few summary statistics for each column."
   ]
  },
  {
   "cell_type": "code",
   "execution_count": 3,
   "id": "fb309b07",
   "metadata": {},
   "outputs": [
    {
     "name": "stdout",
     "output_type": "stream",
     "text": [
      "                         state  individuals  family_members  state_pop\n",
      "region                                                                \n",
      "East South Central     Alabama       2570.0           864.0    4887681\n",
      "Pacific                 Alaska       1434.0           582.0     735139\n",
      "Mountain               Arizona       7259.0          2606.0    7158024\n",
      "West South Central    Arkansas       2280.0           432.0    3009733\n",
      "Pacific             California     109008.0         20964.0   39461588\n"
     ]
    }
   ],
   "source": [
    "# Print the head of the homelessness data\n",
    "print(homelessness.head())"
   ]
  },
  {
   "cell_type": "code",
   "execution_count": 4,
   "id": "4cf4f061",
   "metadata": {},
   "outputs": [
    {
     "name": "stdout",
     "output_type": "stream",
     "text": [
      "<class 'pandas.core.frame.DataFrame'>\n",
      "Index: 51 entries, East South Central to Mountain\n",
      "Data columns (total 4 columns):\n",
      " #   Column          Non-Null Count  Dtype  \n",
      "---  ------          --------------  -----  \n",
      " 0   state           51 non-null     object \n",
      " 1   individuals     51 non-null     float64\n",
      " 2   family_members  51 non-null     float64\n",
      " 3   state_pop       51 non-null     int64  \n",
      "dtypes: float64(2), int64(1), object(1)\n",
      "memory usage: 2.0+ KB\n",
      "None\n"
     ]
    }
   ],
   "source": [
    "# Print information about homelessness\n",
    "print(homelessness.info())"
   ]
  },
  {
   "cell_type": "code",
   "execution_count": 5,
   "id": "f1432762",
   "metadata": {},
   "outputs": [
    {
     "name": "stdout",
     "output_type": "stream",
     "text": [
      "(51, 4)\n"
     ]
    }
   ],
   "source": [
    "# Print the shape of homelessness\n",
    "print(homelessness.shape)"
   ]
  },
  {
   "cell_type": "code",
   "execution_count": 6,
   "id": "9db19653",
   "metadata": {},
   "outputs": [
    {
     "name": "stdout",
     "output_type": "stream",
     "text": [
      "         individuals  family_members     state_pop\n",
      "count      51.000000       51.000000  5.100000e+01\n",
      "mean     7225.784314     3504.882353  6.405637e+06\n",
      "std     15991.025083     7805.411811  7.327258e+06\n",
      "min       434.000000       75.000000  5.776010e+05\n",
      "25%      1446.500000      592.000000  1.777414e+06\n",
      "50%      3082.000000     1482.000000  4.461153e+06\n",
      "75%      6781.500000     3196.000000  7.340946e+06\n",
      "max    109008.000000    52070.000000  3.946159e+07\n"
     ]
    }
   ],
   "source": [
    "# Print a description of homelessness\n",
    "print(homelessness.describe())"
   ]
  },
  {
   "cell_type": "markdown",
   "id": "1eaea17e",
   "metadata": {},
   "source": [
    "## Parts of a DataFrame\n",
    "To better understand DataFrame objects, it's useful to know that they consist of three components, stored as attributes:\n",
    "\n",
    "* .values: A two-dimensional NumPy array of values.\n",
    "* .columns: An index of columns: the column names.\n",
    "* .index: An index for the rows: either row numbers or row names.\n",
    " You can usually think of indexes as a list of strings or numbers, though the pandas Index data type allows for more sophisticated options."
   ]
  },
  {
   "cell_type": "code",
   "execution_count": 7,
   "id": "8be5e7c5",
   "metadata": {},
   "outputs": [
    {
     "name": "stdout",
     "output_type": "stream",
     "text": [
      "[['Alabama' 2570.0 864.0 4887681]\n",
      " ['Alaska' 1434.0 582.0 735139]\n",
      " ['Arizona' 7259.0 2606.0 7158024]\n",
      " ['Arkansas' 2280.0 432.0 3009733]\n",
      " ['California' 109008.0 20964.0 39461588]\n",
      " ['Colorado' 7607.0 3250.0 5691287]\n",
      " ['Connecticut' 2280.0 1696.0 3571520]\n",
      " ['Delaware' 708.0 374.0 965479]\n",
      " ['District of Columbia' 3770.0 3134.0 701547]\n",
      " ['Florida' 21443.0 9587.0 21244317]\n",
      " ['Georgia' 6943.0 2556.0 10511131]\n",
      " ['Hawaii' 4131.0 2399.0 1420593]\n",
      " ['Idaho' 1297.0 715.0 1750536]\n",
      " ['Illinois' 6752.0 3891.0 12723071]\n",
      " ['Indiana' 3776.0 1482.0 6695497]\n",
      " ['Iowa' 1711.0 1038.0 3148618]\n",
      " ['Kansas' 1443.0 773.0 2911359]\n",
      " ['Kentucky' 2735.0 953.0 4461153]\n",
      " ['Louisiana' 2540.0 519.0 4659690]\n",
      " ['Maine' 1450.0 1066.0 1339057]\n",
      " ['Maryland' 4914.0 2230.0 6035802]\n",
      " ['Massachusetts' 6811.0 13257.0 6882635]\n",
      " ['Michigan' 5209.0 3142.0 9984072]\n",
      " ['Minnesota' 3993.0 3250.0 5606249]\n",
      " ['Mississippi' 1024.0 328.0 2981020]\n",
      " ['Missouri' 3776.0 2107.0 6121623]\n",
      " ['Montana' 983.0 422.0 1060665]\n",
      " ['Nebraska' 1745.0 676.0 1925614]\n",
      " ['Nevada' 7058.0 486.0 3027341]\n",
      " ['New Hampshire' 835.0 615.0 1353465]\n",
      " ['New Jersey' 6048.0 3350.0 8886025]\n",
      " ['New Mexico' 1949.0 602.0 2092741]\n",
      " ['New York' 39827.0 52070.0 19530351]\n",
      " ['North Carolina' 6451.0 2817.0 10381615]\n",
      " ['North Dakota' 467.0 75.0 758080]\n",
      " ['Ohio' 6929.0 3320.0 11676341]\n",
      " ['Oklahoma' 2823.0 1048.0 3940235]\n",
      " ['Oregon' 11139.0 3337.0 4181886]\n",
      " ['Pennsylvania' 8163.0 5349.0 12800922]\n",
      " ['Rhode Island' 747.0 354.0 1058287]\n",
      " ['South Carolina' 3082.0 851.0 5084156]\n",
      " ['South Dakota' 836.0 323.0 878698]\n",
      " ['Tennessee' 6139.0 1744.0 6771631]\n",
      " ['Texas' 19199.0 6111.0 28628666]\n",
      " ['Utah' 1904.0 972.0 3153550]\n",
      " ['Vermont' 780.0 511.0 624358]\n",
      " ['Virginia' 3928.0 2047.0 8501286]\n",
      " ['Washington' 16424.0 5880.0 7523869]\n",
      " ['West Virginia' 1021.0 222.0 1804291]\n",
      " ['Wisconsin' 2740.0 2167.0 5807406]\n",
      " ['Wyoming' 434.0 205.0 577601]]\n",
      "Index(['state', 'individuals', 'family_members', 'state_pop'], dtype='object')\n",
      "Index(['East South Central', 'Pacific', 'Mountain', 'West South Central',\n",
      "       'Pacific', 'Mountain', 'New England', 'South Atlantic',\n",
      "       'South Atlantic', 'South Atlantic', 'South Atlantic', 'Pacific',\n",
      "       'Mountain', 'East North Central', 'East North Central',\n",
      "       'West North Central', 'West North Central', 'East South Central',\n",
      "       'West South Central', 'New England', 'South Atlantic', 'New England',\n",
      "       'East North Central', 'West North Central', 'East South Central',\n",
      "       'West North Central', 'Mountain', 'West North Central', 'Mountain',\n",
      "       'New England', 'Mid-Atlantic', 'Mountain', 'Mid-Atlantic',\n",
      "       'South Atlantic', 'West North Central', 'East North Central',\n",
      "       'West South Central', 'Pacific', 'Mid-Atlantic', 'New England',\n",
      "       'South Atlantic', 'West North Central', 'East South Central',\n",
      "       'West South Central', 'Mountain', 'New England', 'South Atlantic',\n",
      "       'Pacific', 'South Atlantic', 'East North Central', 'Mountain'],\n",
      "      dtype='object', name='region')\n"
     ]
    }
   ],
   "source": [
    "# Import pandas using the alias pd\n",
    "import pandas as pd\n",
    "\n",
    "# Print the values of homelessness\n",
    "print(homelessness.values)\n",
    "\n",
    "# Print the column index of homelessness\n",
    "print(homelessness.columns)\n",
    "\n",
    "# Print the row index of homelessness\n",
    "print(homelessness.index)"
   ]
  },
  {
   "cell_type": "markdown",
   "id": "30417944",
   "metadata": {},
   "source": [
    "<div class=\"css-ikv0qb\"><h1 class=\"css-f2t179\">Sorting rows</h1><div class=\"css-hu6jey\"><div class=\"\">\n",
    "<p>Finding interesting bits of data in a DataFrame is often easier if you change the order of the rows. You can sort the rows by passing a column name to <code>.sort_values()</code>.</p>\n",
    "<p>In cases where rows have the same value (this is common if you sort on a categorical variable), you may wish to break the ties by sorting on another column. You can sort on multiple columns in this way by passing a list of column names.</p>\n",
    "<table>\n",
    "<thead>\n",
    "<tr>\n",
    "<th>Sort on …</th>\n",
    "<th>Syntax</th>\n",
    "</tr>\n",
    "</thead>\n",
    "<tbody>\n",
    "<tr>\n",
    "<td>one column</td>\n",
    "<td><code>df.sort_values(\"breed\")</code></td>\n",
    "</tr>\n",
    "<tr>\n",
    "<td>multiple columns</td>\n",
    "<td><code>df.sort_values([\"breed\", \"weight_kg\"])</code></td>\n",
    "</tr>\n",
    "</tbody>\n",
    "</table>\n",
    "<p>By combining <code>.sort_values()</code> with <code>.head()</code>, you can answer questions in the form, \"What are the top cases where…?\".</p>\n"
   ]
  },
  {
   "cell_type": "code",
   "execution_count": 5,
   "id": "df797cc4",
   "metadata": {},
   "outputs": [
    {
     "name": "stdout",
     "output_type": "stream",
     "text": [
      "                           state  individuals  family_members  state_pop\n",
      "region                                                                  \n",
      "Mountain                 Wyoming        434.0           205.0     577601\n",
      "West North Central  North Dakota        467.0            75.0     758080\n",
      "South Atlantic          Delaware        708.0           374.0     965479\n",
      "New England         Rhode Island        747.0           354.0    1058287\n",
      "New England              Vermont        780.0           511.0     624358\n"
     ]
    }
   ],
   "source": [
    "# Sort homelessness by individuals\n",
    "homelessness_ind =homelessness.sort_values('individuals')\n",
    "\n",
    "# Print the top few rows\n",
    "print(homelessness_ind.head())"
   ]
  },
  {
   "cell_type": "code",
   "execution_count": 6,
   "id": "751ed8dc",
   "metadata": {},
   "outputs": [
    {
     "name": "stdout",
     "output_type": "stream",
     "text": [
      "                            state  individuals  family_members  state_pop\n",
      "region                                                                   \n",
      "Mid-Atlantic             New York      39827.0         52070.0   19530351\n",
      "Pacific                California     109008.0         20964.0   39461588\n",
      "New England         Massachusetts       6811.0         13257.0    6882635\n",
      "South Atlantic            Florida      21443.0          9587.0   21244317\n",
      "West South Central          Texas      19199.0          6111.0   28628666\n"
     ]
    }
   ],
   "source": [
    "# Sort homelessness by descending family members\n",
    "homelessness_fam = homelessness.sort_values(\"family_members\",ascending=False)\n",
    "\n",
    "# Print the top few rows\n",
    "print(homelessness_fam.head())"
   ]
  },
  {
   "cell_type": "code",
   "execution_count": 7,
   "id": "59c56179",
   "metadata": {},
   "outputs": [
    {
     "name": "stdout",
     "output_type": "stream",
     "text": [
      "                        state  individuals  family_members  state_pop\n",
      "region                                                               \n",
      "East North Central   Illinois       6752.0          3891.0   12723071\n",
      "East North Central       Ohio       6929.0          3320.0   11676341\n",
      "East North Central   Michigan       5209.0          3142.0    9984072\n",
      "East North Central  Wisconsin       2740.0          2167.0    5807406\n",
      "East North Central    Indiana       3776.0          1482.0    6695497\n"
     ]
    }
   ],
   "source": [
    "# Sort homelessness by region, then descending family members\n",
    "homelessness_reg_fam = homelessness.sort_values([\"region\",\"family_members\"] ,ascending=[True,False])\n",
    "\n",
    "# Print the top few rows\n",
    "print(homelessness_reg_fam.head())"
   ]
  },
  {
   "cell_type": "markdown",
   "id": "4fd33f3e",
   "metadata": {},
   "source": [
    "<div class=\"listview__content\"><div class=\"css-ikv0qb\"><h1 class=\"css-f2t179\">Subsetting columns</h1><div class=\"css-hu6jey\"><div class=\"\">\n",
    "<p>When working with data, you may not need all of the variables in your dataset. Square brackets (<code>[]</code>) can be used to select only the columns that matter to you in an order that makes sense to you.\n",
    "To select only <code>\"col_a\"</code> of the DataFrame <code>df</code>, use</p>\n",
    "<pre><code>df[\"col_a\"]\n",
    "</code></pre>\n",
    "<p>To select <code>\"col_a\"</code> and <code>\"col_b\"</code> of <code>df</code>, use</p>\n",
    "<pre><code>df[[\"col_a\", \"col_b\"]]\n",
    "</code></pre>\n",
    "</div></div></div></div>"
   ]
  },
  {
   "cell_type": "code",
   "execution_count": 8,
   "id": "e448f64b",
   "metadata": {},
   "outputs": [
    {
     "name": "stdout",
     "output_type": "stream",
     "text": [
      "region\n",
      "East South Central      2570.0\n",
      "Pacific                 1434.0\n",
      "Mountain                7259.0\n",
      "West South Central      2280.0\n",
      "Pacific               109008.0\n",
      "Name: individuals, dtype: float64\n"
     ]
    }
   ],
   "source": [
    "# Select the individuals column\n",
    "individuals = homelessness['individuals']\n",
    "\n",
    "# Print the head of the result\n",
    "print(individuals.head())"
   ]
  },
  {
   "cell_type": "code",
   "execution_count": 9,
   "id": "712a57e9",
   "metadata": {},
   "outputs": [
    {
     "name": "stdout",
     "output_type": "stream",
     "text": [
      "                         state  family_members\n",
      "region                                        \n",
      "East South Central     Alabama           864.0\n",
      "Pacific                 Alaska           582.0\n",
      "Mountain               Arizona          2606.0\n",
      "West South Central    Arkansas           432.0\n",
      "Pacific             California         20964.0\n"
     ]
    }
   ],
   "source": [
    "# Select the state and family_members columns\n",
    "state_fam = homelessness[['state','family_members']]\n",
    "\n",
    "# Print the head of the result\n",
    "print(state_fam.head())"
   ]
  },
  {
   "cell_type": "code",
   "execution_count": 10,
   "id": "d6b8695f",
   "metadata": {},
   "outputs": [
    {
     "name": "stdout",
     "output_type": "stream",
     "text": [
      "                    individuals       state\n",
      "region                                     \n",
      "East South Central       2570.0     Alabama\n",
      "Pacific                  1434.0      Alaska\n",
      "Mountain                 7259.0     Arizona\n",
      "West South Central       2280.0    Arkansas\n",
      "Pacific                109008.0  California\n"
     ]
    }
   ],
   "source": [
    "# Select only the individuals and state columns, in that order\n",
    "ind_state = homelessness[['individuals','state']]\n",
    "\n",
    "# Print the head of the result\n",
    "print(ind_state.head())"
   ]
  },
  {
   "cell_type": "markdown",
   "id": "3958072f",
   "metadata": {},
   "source": [
    "<div class=\"css-ikv0qb\"><h1 class=\"css-f2t179\">Subsetting rows</h1><div class=\"css-hu6jey\"><div class=\"\">\n",
    "<p>A large part of data science is about finding which bits of your dataset are interesting. One of the simplest techniques for this is to find a subset of rows that match some criteria. This is sometimes known as <em>filtering rows</em> or <em>selecting rows</em>.</p>\n",
    "<p>There are many ways to subset a DataFrame, perhaps the most common is to use relational operators to return <code>True</code> or <code>False</code> for each row, then pass that inside square brackets.</p>\n",
    "<pre><code>dogs[dogs[\"height_cm\"] &gt; 60]\n",
    "dogs[dogs[\"color\"] == \"tan\"]\n",
    "</code></pre>\n",
    "<p>You can filter for multiple conditions at once by using the \"bitwise and\" operator, <code>&amp;</code>.</p>\n",
    "<pre><code>dogs[(dogs[\"height_cm\"] &gt; 60) &amp; (dogs[\"color\"] == \"tan\")]\n",
    "</code></pre>\n",
    "</div></div></div>"
   ]
  },
  {
   "cell_type": "code",
   "execution_count": 11,
   "id": "6895acdf",
   "metadata": {},
   "outputs": [
    {
     "name": "stdout",
     "output_type": "stream",
     "text": [
      "                         state  individuals  family_members  state_pop\n",
      "region                                                                \n",
      "Pacific             California     109008.0         20964.0   39461588\n",
      "South Atlantic         Florida      21443.0          9587.0   21244317\n",
      "Mid-Atlantic          New York      39827.0         52070.0   19530351\n",
      "Pacific                 Oregon      11139.0          3337.0    4181886\n",
      "West South Central       Texas      19199.0          6111.0   28628666\n",
      "Pacific             Washington      16424.0          5880.0    7523869\n"
     ]
    }
   ],
   "source": [
    "# Filter for rows where individuals is greater than 10000\n",
    "ind_gt_10k = homelessness[homelessness['individuals'] > 10000]\n",
    "\n",
    "# See the result\n",
    "print(ind_gt_10k)"
   ]
  },
  {
   "cell_type": "code",
   "execution_count": 15,
   "id": "e4b09d13",
   "metadata": {},
   "outputs": [
    {
     "name": "stdout",
     "output_type": "stream",
     "text": [
      "      region       state  individuals  family_members  state_pop\n",
      "2   Mountain     Arizona       7259.0          2606.0    7158024\n",
      "5   Mountain    Colorado       7607.0          3250.0    5691287\n",
      "12  Mountain       Idaho       1297.0           715.0    1750536\n",
      "26  Mountain     Montana        983.0           422.0    1060665\n",
      "28  Mountain      Nevada       7058.0           486.0    3027341\n",
      "31  Mountain  New Mexico       1949.0           602.0    2092741\n",
      "44  Mountain        Utah       1904.0           972.0    3153550\n",
      "50  Mountain     Wyoming        434.0           205.0     577601\n"
     ]
    }
   ],
   "source": [
    "# Filter for rows where region is Mountain\n",
    "mountain_reg = homelessness[homelessness['region']=='Mountain']\n",
    "\n",
    "# See the result\n",
    "print(mountain_reg )"
   ]
  },
  {
   "cell_type": "code",
   "execution_count": 16,
   "id": "f187690d",
   "metadata": {},
   "outputs": [
    {
     "name": "stdout",
     "output_type": "stream",
     "text": [
      "    region   state  individuals  family_members  state_pop\n",
      "1  Pacific  Alaska       1434.0           582.0     735139\n"
     ]
    }
   ],
   "source": [
    "# Filter for rows where family_members is less than 1000 \n",
    "# and region is Pacific\n",
    "fam_lt_1k_pac = homelessness[(homelessness['family_members'] < 1000) & (homelessness['region']==\"Pacific\")]\n",
    "\n",
    "# See the result\n",
    "print(fam_lt_1k_pac)"
   ]
  },
  {
   "cell_type": "markdown",
   "id": "26b7e841",
   "metadata": {},
   "source": [
    "<div class=\"css-ikv0qb\"><h1 class=\"css-f2t179\">Subsetting rows by categorical variables</h1><div class=\"css-hu6jey\"><div class=\"\">\n",
    "<p>Subsetting data based on a categorical variable often involves using the \"or\" operator (<code>|</code>) to select rows from multiple categories. This can get tedious when you want all states in one of three different regions, for example. \n",
    "Instead, use the <code>.isin()</code> method, which will allow you to tackle this problem by writing one condition instead of three separate ones.</p>\n",
    "<pre><code>colors = [\"brown\", \"black\", \"tan\"]\n",
    "condition = dogs[\"color\"].isin(colors)\n",
    "dogs[condition]\n",
    "</code></pre>\n",
    "</div></div></div>\n"
   ]
  },
  {
   "cell_type": "code",
   "execution_count": 17,
   "id": "543f71a3",
   "metadata": {},
   "outputs": [
    {
     "name": "stdout",
     "output_type": "stream",
     "text": [
      "            region                 state  individuals  family_members  \\\n",
      "7   South Atlantic              Delaware        708.0           374.0   \n",
      "8   South Atlantic  District of Columbia       3770.0          3134.0   \n",
      "9   South Atlantic               Florida      21443.0          9587.0   \n",
      "10  South Atlantic               Georgia       6943.0          2556.0   \n",
      "20  South Atlantic              Maryland       4914.0          2230.0   \n",
      "30    Mid-Atlantic            New Jersey       6048.0          3350.0   \n",
      "32    Mid-Atlantic              New York      39827.0         52070.0   \n",
      "33  South Atlantic        North Carolina       6451.0          2817.0   \n",
      "38    Mid-Atlantic          Pennsylvania       8163.0          5349.0   \n",
      "40  South Atlantic        South Carolina       3082.0           851.0   \n",
      "46  South Atlantic              Virginia       3928.0          2047.0   \n",
      "48  South Atlantic         West Virginia       1021.0           222.0   \n",
      "\n",
      "    state_pop  \n",
      "7      965479  \n",
      "8      701547  \n",
      "9    21244317  \n",
      "10   10511131  \n",
      "20    6035802  \n",
      "30    8886025  \n",
      "32   19530351  \n",
      "33   10381615  \n",
      "38   12800922  \n",
      "40    5084156  \n",
      "46    8501286  \n",
      "48    1804291  \n"
     ]
    }
   ],
   "source": [
    "# Subset for rows in South Atlantic or Mid-Atlantic regions\n",
    "south_mid_atlantic =homelessness[homelessness['region'].isin([\"South Atlantic\",\"Mid-Atlantic\"])]\n",
    "# See the result\n",
    "print(south_mid_atlantic)"
   ]
  },
  {
   "cell_type": "code",
   "execution_count": 18,
   "id": "f92b7131",
   "metadata": {},
   "outputs": [
    {
     "name": "stdout",
     "output_type": "stream",
     "text": [
      "      region       state  individuals  family_members  state_pop\n",
      "2   Mountain     Arizona       7259.0          2606.0    7158024\n",
      "4    Pacific  California     109008.0         20964.0   39461588\n",
      "28  Mountain      Nevada       7058.0           486.0    3027341\n",
      "44  Mountain        Utah       1904.0           972.0    3153550\n"
     ]
    }
   ],
   "source": [
    "# The Mojave Desert states\n",
    "canu = [\"California\", \"Arizona\", \"Nevada\", \"Utah\"]\n",
    "\n",
    "# Filter for rows in the Mojave Desert states\n",
    "mojave_homelessness =homelessness[homelessness['state'].isin(canu)]\n",
    "\n",
    "# See the result\n",
    "print(mojave_homelessness)"
   ]
  },
  {
   "cell_type": "markdown",
   "id": "63540e39",
   "metadata": {},
   "source": [
    "<div class=\"css-ikv0qb\"><h1 class=\"css-f2t179\">Adding new columns</h1><div class=\"css-hu6jey\"><div class=\"\">\n",
    "<p>You aren't stuck with just the data you are given. Instead, you can add new columns to a DataFrame. This has many names, such as <em>transforming</em>, <em>mutating</em>, and <em>feature engineering</em>.</p>\n",
    "<p>You can create new columns from scratch, but it is also common to derive them from other columns, for example, by adding columns together or by changing their units. </p>\n",
    "</div></div></div>"
   ]
  },
  {
   "cell_type": "code",
   "execution_count": 19,
   "id": "fc2c150c",
   "metadata": {},
   "outputs": [
    {
     "name": "stdout",
     "output_type": "stream",
     "text": [
      "                region                 state  individuals  family_members  \\\n",
      "0   East South Central               Alabama       2570.0           864.0   \n",
      "1              Pacific                Alaska       1434.0           582.0   \n",
      "2             Mountain               Arizona       7259.0          2606.0   \n",
      "3   West South Central              Arkansas       2280.0           432.0   \n",
      "4              Pacific            California     109008.0         20964.0   \n",
      "5             Mountain              Colorado       7607.0          3250.0   \n",
      "6          New England           Connecticut       2280.0          1696.0   \n",
      "7       South Atlantic              Delaware        708.0           374.0   \n",
      "8       South Atlantic  District of Columbia       3770.0          3134.0   \n",
      "9       South Atlantic               Florida      21443.0          9587.0   \n",
      "10      South Atlantic               Georgia       6943.0          2556.0   \n",
      "11             Pacific                Hawaii       4131.0          2399.0   \n",
      "12            Mountain                 Idaho       1297.0           715.0   \n",
      "13  East North Central              Illinois       6752.0          3891.0   \n",
      "14  East North Central               Indiana       3776.0          1482.0   \n",
      "15  West North Central                  Iowa       1711.0          1038.0   \n",
      "16  West North Central                Kansas       1443.0           773.0   \n",
      "17  East South Central              Kentucky       2735.0           953.0   \n",
      "18  West South Central             Louisiana       2540.0           519.0   \n",
      "19         New England                 Maine       1450.0          1066.0   \n",
      "20      South Atlantic              Maryland       4914.0          2230.0   \n",
      "21         New England         Massachusetts       6811.0         13257.0   \n",
      "22  East North Central              Michigan       5209.0          3142.0   \n",
      "23  West North Central             Minnesota       3993.0          3250.0   \n",
      "24  East South Central           Mississippi       1024.0           328.0   \n",
      "25  West North Central              Missouri       3776.0          2107.0   \n",
      "26            Mountain               Montana        983.0           422.0   \n",
      "27  West North Central              Nebraska       1745.0           676.0   \n",
      "28            Mountain                Nevada       7058.0           486.0   \n",
      "29         New England         New Hampshire        835.0           615.0   \n",
      "30        Mid-Atlantic            New Jersey       6048.0          3350.0   \n",
      "31            Mountain            New Mexico       1949.0           602.0   \n",
      "32        Mid-Atlantic              New York      39827.0         52070.0   \n",
      "33      South Atlantic        North Carolina       6451.0          2817.0   \n",
      "34  West North Central          North Dakota        467.0            75.0   \n",
      "35  East North Central                  Ohio       6929.0          3320.0   \n",
      "36  West South Central              Oklahoma       2823.0          1048.0   \n",
      "37             Pacific                Oregon      11139.0          3337.0   \n",
      "38        Mid-Atlantic          Pennsylvania       8163.0          5349.0   \n",
      "39         New England          Rhode Island        747.0           354.0   \n",
      "40      South Atlantic        South Carolina       3082.0           851.0   \n",
      "41  West North Central          South Dakota        836.0           323.0   \n",
      "42  East South Central             Tennessee       6139.0          1744.0   \n",
      "43  West South Central                 Texas      19199.0          6111.0   \n",
      "44            Mountain                  Utah       1904.0           972.0   \n",
      "45         New England               Vermont        780.0           511.0   \n",
      "46      South Atlantic              Virginia       3928.0          2047.0   \n",
      "47             Pacific            Washington      16424.0          5880.0   \n",
      "48      South Atlantic         West Virginia       1021.0           222.0   \n",
      "49  East North Central             Wisconsin       2740.0          2167.0   \n",
      "50            Mountain               Wyoming        434.0           205.0   \n",
      "\n",
      "    state_pop     total  p_individuals  \n",
      "0     4887681    3434.0       0.748398  \n",
      "1      735139    2016.0       0.711310  \n",
      "2     7158024    9865.0       0.735834  \n",
      "3     3009733    2712.0       0.840708  \n",
      "4    39461588  129972.0       0.838704  \n",
      "5     5691287   10857.0       0.700654  \n",
      "6     3571520    3976.0       0.573441  \n",
      "7      965479    1082.0       0.654344  \n",
      "8      701547    6904.0       0.546060  \n",
      "9    21244317   31030.0       0.691041  \n",
      "10   10511131    9499.0       0.730919  \n",
      "11    1420593    6530.0       0.632619  \n",
      "12    1750536    2012.0       0.644632  \n",
      "13   12723071   10643.0       0.634408  \n",
      "14    6695497    5258.0       0.718144  \n",
      "15    3148618    2749.0       0.622408  \n",
      "16    2911359    2216.0       0.651173  \n",
      "17    4461153    3688.0       0.741594  \n",
      "18    4659690    3059.0       0.830337  \n",
      "19    1339057    2516.0       0.576312  \n",
      "20    6035802    7144.0       0.687850  \n",
      "21    6882635   20068.0       0.339396  \n",
      "22    9984072    8351.0       0.623758  \n",
      "23    5606249    7243.0       0.551291  \n",
      "24    2981020    1352.0       0.757396  \n",
      "25    6121623    5883.0       0.641849  \n",
      "26    1060665    1405.0       0.699644  \n",
      "27    1925614    2421.0       0.720777  \n",
      "28    3027341    7544.0       0.935578  \n",
      "29    1353465    1450.0       0.575862  \n",
      "30    8886025    9398.0       0.643541  \n",
      "31    2092741    2551.0       0.764014  \n",
      "32   19530351   91897.0       0.433387  \n",
      "33   10381615    9268.0       0.696051  \n",
      "34     758080     542.0       0.861624  \n",
      "35   11676341   10249.0       0.676066  \n",
      "36    3940235    3871.0       0.729269  \n",
      "37    4181886   14476.0       0.769481  \n",
      "38   12800922   13512.0       0.604130  \n",
      "39    1058287    1101.0       0.678474  \n",
      "40    5084156    3933.0       0.783626  \n",
      "41     878698    1159.0       0.721311  \n",
      "42    6771631    7883.0       0.778764  \n",
      "43   28628666   25310.0       0.758554  \n",
      "44    3153550    2876.0       0.662031  \n",
      "45     624358    1291.0       0.604183  \n",
      "46    8501286    5975.0       0.657406  \n",
      "47    7523869   22304.0       0.736370  \n",
      "48    1804291    1243.0       0.821400  \n",
      "49    5807406    4907.0       0.558386  \n",
      "50     577601     639.0       0.679186  \n"
     ]
    }
   ],
   "source": [
    "# Add total col as sum of individuals and family_members\n",
    "homelessness['total']=homelessness['individuals']+homelessness['family_members']\n",
    "# Add p_individuals col as proportion of total that are individuals\n",
    "homelessness['p_individuals']=homelessness['individuals'] / homelessness['total']\n",
    "\n",
    "# See the result\n",
    "print(homelessness)"
   ]
  },
  {
   "cell_type": "markdown",
   "id": "f4fb92f1",
   "metadata": {},
   "source": [
    "<div class=\"css-ikv0qb\"><h1 class=\"css-f2t179\">Combo-attack!</h1><div class=\"css-hu6jey\"><div class=\"\">\n",
    "<p>You've seen the four most common types of data manipulation: sorting rows, subsetting columns, subsetting rows, and adding new columns. In a real-life data analysis, you can mix and match these four manipulations to answer a multitude of questions.</p>\n",
    "<p>In this exercise, you'll answer the question, \"Which state has the highest number of homeless individuals per 10,000 people in the state?\" Combine your new <code>pandas</code> skills to find out.</p></div></div></div>"
   ]
  },
  {
   "cell_type": "code",
   "execution_count": 21,
   "id": "9af31c92",
   "metadata": {},
   "outputs": [
    {
     "name": "stdout",
     "output_type": "stream",
     "text": [
      "                   state  indiv_per_10k\n",
      "8   District of Columbia      53.738381\n",
      "11                Hawaii      29.079406\n",
      "4             California      27.623825\n",
      "37                Oregon      26.636307\n",
      "28                Nevada      23.314189\n",
      "47            Washington      21.829195\n",
      "32              New York      20.392363\n"
     ]
    }
   ],
   "source": [
    "# Create indiv_per_10k col as homeless individuals per 10k state pop\n",
    "homelessness[\"indiv_per_10k\"] = 10000 * homelessness['individuals'] / homelessness[\"state_pop\"]\n",
    "\n",
    "# Subset rows for indiv_per_10k greater than 20\n",
    "high_homelessness = homelessness[homelessness[\"indiv_per_10k\"] >20]\n",
    "\n",
    "# Sort high_homelessness by descending indiv_per_10k\n",
    "high_homelessness_srt = high_homelessness.sort_values(\"indiv_per_10k\",ascending=False)\n",
    "\n",
    "# From high_homelessness_srt, select the state and indiv_per_10k cols\n",
    "result = high_homelessness_srt[['state','indiv_per_10k']]\n",
    "\n",
    "# See the result\n",
    "print(result)"
   ]
  },
  {
   "cell_type": "code",
   "execution_count": null,
   "id": "f9bef61d",
   "metadata": {},
   "outputs": [],
   "source": []
  }
 ],
 "metadata": {
  "kernelspec": {
   "display_name": "Python 3 (ipykernel)",
   "language": "python",
   "name": "python3"
  },
  "language_info": {
   "codemirror_mode": {
    "name": "ipython",
    "version": 3
   },
   "file_extension": ".py",
   "mimetype": "text/x-python",
   "name": "python",
   "nbconvert_exporter": "python",
   "pygments_lexer": "ipython3",
   "version": "3.10.10"
  }
 },
 "nbformat": 4,
 "nbformat_minor": 5
}
