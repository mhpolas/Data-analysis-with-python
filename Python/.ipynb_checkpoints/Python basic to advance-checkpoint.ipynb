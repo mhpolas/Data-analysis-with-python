{
 "cells": [
  {
   "cell_type": "code",
   "execution_count": 1,
   "id": "e97da263",
   "metadata": {},
   "outputs": [
    {
     "name": "stdout",
     "output_type": "stream",
     "text": [
      "hello world\n"
     ]
    }
   ],
   "source": [
    "print('hello world')"
   ]
  },
  {
   "cell_type": "markdown",
   "id": "06016a83",
   "metadata": {},
   "source": [
    "## Variable Assignment\n",
    "In Python, a variable allows you to refer to a value with a name. To create a variable x with a value of 5, you use =, like this example:\n",
    "\n",
    "x = 5\n",
    "You can now use the name of this variable, x, instead of the actual value, 5.\n",
    "\n",
    "Remember, = in Python means assignment, it doesn't test equality"
   ]
  },
  {
   "cell_type": "code",
   "execution_count": 2,
   "id": "554c751e",
   "metadata": {},
   "outputs": [
    {
     "name": "stdout",
     "output_type": "stream",
     "text": [
      "100\n"
     ]
    }
   ],
   "source": [
    "# Create a variable savings\n",
    "savings=100\n",
    "\n",
    "# Print out savings\n",
    "print(savings)"
   ]
  },
  {
   "cell_type": "markdown",
   "id": "922b40df",
   "metadata": {},
   "source": [
    "### How much money would you have saved four months from now, if you saved $10 each month?"
   ]
  },
  {
   "cell_type": "code",
   "execution_count": 3,
   "id": "8ca60f81",
   "metadata": {},
   "outputs": [
    {
     "name": "stdout",
     "output_type": "stream",
     "text": [
      "140\n"
     ]
    }
   ],
   "source": [
    "# Create the variables monthly_savings and num_months\n",
    "monthly_savings=10\n",
    "num_months=4\n",
    "\n",
    "# Multiply monthly_savings and num_months\n",
    "new_savings = monthly_savings * num_months\n",
    "\n",
    "# Add new_savings to your savings\n",
    "total_savings = new_savings+savings\n",
    "\n",
    "# Print total_savings\n",
    "\n",
    "print(total_savings)"
   ]
  },
  {
   "cell_type": "markdown",
   "id": "49afbd79",
   "metadata": {},
   "source": [
    "## Other variable types\n",
    "In the previous exercise, you worked with the integer Python data type:\n",
    "\n",
    "* int, or integer: a number without a fractional part. savings, with the value 100, is an example of an integer.\n",
    "Next to numerical data types, there are three other very common data types:\n",
    "\n",
    "* float, or floating point: a number that has both an integer and fractional part, separated by a point. 1.1, is an example of a float.\n",
    "* str, or string: a type to represent text. You can use single or double quotes to build a string.\n",
    "* bool, or boolean: a type to represent logical values. It can only be True or False (the capitalization is important!)."
   ]
  },
  {
   "cell_type": "code",
   "execution_count": 5,
   "id": "995963bd",
   "metadata": {},
   "outputs": [],
   "source": [
    "# Create a FLOAT variable half\n",
    "half=0.5\n",
    "\n",
    "# Create a STRING variable intro\n",
    "intro=\"Hello! How are you?\"\n",
    "\n",
    "# Create a BOOLEAN variable is_good\n",
    "is_good=True"
   ]
  },
  {
   "cell_type": "markdown",
   "id": "1ec08be8",
   "metadata": {},
   "source": [
    "## Different types behave differently in Python.\n",
    "\n",
    "When you sum two strings, for example, you'll get different behavior than when you sum two integers or two booleans."
   ]
  },
  {
   "cell_type": "code",
   "execution_count": 6,
   "id": "f4acbd8a",
   "metadata": {},
   "outputs": [
    {
     "name": "stdout",
     "output_type": "stream",
     "text": [
      "<class 'int'>\n",
      "Hello! How are you?Hello! How are you?\n"
     ]
    }
   ],
   "source": [
    "monthly_savings = 10\n",
    "num_months = 12\n",
    "intro = \"Hello! How are you?\"\n",
    "\n",
    "# Calculate year_savings using monthly_savings and num_months\n",
    "year_savings=monthly_savings*num_months\n",
    "\n",
    "# Print the type of year_savings\n",
    "print(type(year_savings))\n",
    "\n",
    "# Assign sum of intro and intro to doubleintro\n",
    "doubleintro=intro+intro\n",
    "\n",
    "# Print out doubleintro\n",
    "print(doubleintro)"
   ]
  },
  {
   "cell_type": "markdown",
   "id": "9767b542",
   "metadata": {},
   "source": [
    "## Type conversion\n",
    "\n",
    "Using the + operator to paste together two strings can be very useful in building custom messages.\n",
    "\n",
    "Suppose, for example, that you've calculated your savings want to summarize the results in a string.\n",
    "\n",
    "To do this, you'll need to explicitly convert the types of your variables. More specifically, you'll need str(), to convert a value into a string. str(savings), for example, will convert the integer savings to a string.\n",
    "\n",
    "Similar functions such as <b>int(), float() and bool() </b> will help you convert Python values into any type."
   ]
  },
  {
   "cell_type": "code",
   "execution_count": 7,
   "id": "b56e6c65",
   "metadata": {},
   "outputs": [
    {
     "name": "stdout",
     "output_type": "stream",
     "text": [
      "I started with $100 and now have $150. Awesome!\n"
     ]
    }
   ],
   "source": [
    "# Definition of savings and total_savings\n",
    "savings = 100\n",
    "total_savings = 150\n",
    "\n",
    "# Fix the printout\n",
    "print(\"I started with $\" + str(savings) + \" and now have $\" + str(total_savings) + \". Awesome!\")\n",
    "\n",
    "# Definition of pi_string\n",
    "pi_string = \"3.1415926\"\n",
    "\n",
    "# Convert pi_string into float: pi_float\n",
    "pi_float = float(pi_string)"
   ]
  },
  {
   "cell_type": "markdown",
   "id": "fa370fff",
   "metadata": {},
   "source": [
    "## Create a list\n",
    "As opposed to int, bool etc., a list is a compound data type; you can group values together:\n",
    "\n",
    "a = \"is\"\n",
    "\n",
    "b = \"nice\"\n",
    "\n",
    "my_list = [\"my\", \"list\", a, b]\n",
    "\n",
    "After measuring the height of your family, you decide to collect some information on the house you're living in. The areas of the different parts of your house are stored in separate variables for now, as shown in the script."
   ]
  },
  {
   "cell_type": "code",
   "execution_count": 8,
   "id": "b171046e",
   "metadata": {},
   "outputs": [
    {
     "name": "stdout",
     "output_type": "stream",
     "text": [
      "[11.25, 18.0, 20.0, 10.75, 9.5]\n"
     ]
    }
   ],
   "source": [
    "# area variables (in square meters)\n",
    "hall = 11.25\n",
    "kit = 18.0\n",
    "liv = 20.0\n",
    "bed = 10.75\n",
    "bath = 9.50\n",
    "\n",
    "# Create list areas\n",
    "areas = [hall, kit, liv, bed, bath]\n",
    "\n",
    "# Print areas\n",
    "print(areas)"
   ]
  },
  {
   "cell_type": "markdown",
   "id": "3b5f7f0c",
   "metadata": {},
   "source": [
    "## Create list with different types\n",
    "A list can contain any Python type. Although it's not really common, a list can also contain a mix of Python types including strings, floats, booleans, etc."
   ]
  },
  {
   "cell_type": "code",
   "execution_count": null,
   "id": "d72d23a9",
   "metadata": {},
   "outputs": [],
   "source": [
    "# area variables (in square meters)\n",
    "hall = 11.25\n",
    "kit = 18.0\n",
    "liv = 20.0\n",
    "bed = 10.75\n",
    "bath = 9.50\n",
    "\n",
    "# Adapt list areas\n",
    "areas = [\"hallway\", hall, \"kitchen\", kit, \"living room\", liv, \"bedroom\", bed, \"bathroom\", bath]\n",
    "\n",
    "# Print areas\n",
    "print(areas)"
   ]
  },
  {
   "cell_type": "markdown",
   "id": "ac261228",
   "metadata": {},
   "source": [
    "## List of lists\n",
    "As a data scientist, you'll often be dealing with a lot of data, and it will make sense to group some of this data.\n",
    "\n",
    "Instead of creating a flat list containing strings and floats, representing the names and areas of the rooms in your house, you can create a list of lists."
   ]
  },
  {
   "cell_type": "code",
   "execution_count": null,
   "id": "ce1c0c5e",
   "metadata": {},
   "outputs": [],
   "source": [
    "# area variables (in square meters)\n",
    "hall = 11.25\n",
    "kit = 18.0\n",
    "liv = 20.0\n",
    "bed = 10.75\n",
    "bath = 9.50\n",
    "\n",
    "# house information as list of lists\n",
    "house = [[\"hallway\", hall],\n",
    "         [\"kitchen\", kit],\n",
    "         [\"living room\", liv],\n",
    "         [\"bedroom\", bed],\n",
    "         [\"bathroom\", bath]]\n",
    "\n",
    "# Print out house\n",
    "print(house)\n",
    "\n",
    "# Print out the type of house\n",
    "print(type(house))"
   ]
  },
  {
   "cell_type": "markdown",
   "id": "5c954fec",
   "metadata": {},
   "source": [
    "## Subset and conquer\n",
    "Subsetting Python lists is a piece of cake. Take the code sample below, which creates a list x and then selects \"b\" from it. Remember that this is the second element, so it has index 1. You can also use negative indexing.\n",
    "\n",
    "x = [\"a\", \"b\", \"c\", \"d\"]\n",
    "\n",
    "x[1]\n",
    "\n",
    "x[-3] # same result!"
   ]
  },
  {
   "cell_type": "code",
   "execution_count": 12,
   "id": "e495fdd9",
   "metadata": {},
   "outputs": [
    {
     "name": "stdout",
     "output_type": "stream",
     "text": [
      "11.25\n",
      "9.5\n",
      "20.0\n"
     ]
    }
   ],
   "source": [
    "# Create the areas list\n",
    "areas = [\"hallway\", 11.25, \"kitchen\", 18.0, \"living room\", 20.0, \"bedroom\", 10.75, \"bathroom\", 9.50]\n",
    "\n",
    "# Print out second element from areas\n",
    "print(areas[1])\n",
    "\n",
    "# Print out last element from areas\n",
    "print(areas[-1])\n",
    "\n",
    "# Print out the area of the living room\n",
    "print(areas[5])"
   ]
  },
  {
   "cell_type": "markdown",
   "id": "ab872ca9",
   "metadata": {},
   "source": [
    "## Subset and calculate\n",
    "After you've extracted values from a list, you can use them to perform additional calculations. Take this example, where the second and fourth element of a list x are extracted. The strings that result are pasted together using the + operator:\n",
    "\n",
    "x = [\"a\", \"b\", \"c\", \"d\"]\n",
    "\n",
    "print(x[1] + x[3])"
   ]
  },
  {
   "cell_type": "code",
   "execution_count": 1,
   "id": "db11188e",
   "metadata": {},
   "outputs": [
    {
     "name": "stdout",
     "output_type": "stream",
     "text": [
      "28.75\n"
     ]
    }
   ],
   "source": [
    "# Create the areas list\n",
    "areas = [\"hallway\", 11.25, \"kitchen\", 18.0, \"living room\", 20.0, \"bedroom\", 10.75, \"bathroom\", 9.50]\n",
    "\n",
    "# Sum of kitchen and bedroom area: eat_sleep_area\n",
    "#eat_sleep_area=sum([areas[3],areas[7]])\n",
    "eat_sleep_area=areas[3]+areas[7]\n",
    "# Print the variable eat_sleep_area\n",
    "print(eat_sleep_area)"
   ]
  },
  {
   "cell_type": "markdown",
   "id": "81c1d2fe",
   "metadata": {},
   "source": [
    "## Slicing and dicing\n",
    "Selecting single values from a list is just one part of the story. It's also possible to slice your list, which means selecting multiple elements from your list. Use the following syntax:\n",
    "\n",
    "my_list[start:end]\n",
    "\n",
    "The start index will be included, while the end index is not.\n",
    "\n",
    "The code sample below shows an example. A list with \"b\" and \"c\", corresponding to indexes 1 and 2, are selected from a list x:\n",
    "\n",
    "x = [\"a\", \"b\", \"c\", \"d\"]\n",
    "\n",
    "x[1:3]\n",
    "\n",
    "The elements with index 1 and 2 are included, while the element with index 3 is not."
   ]
  },
  {
   "cell_type": "code",
   "execution_count": 2,
   "id": "80372af8",
   "metadata": {},
   "outputs": [
    {
     "name": "stdout",
     "output_type": "stream",
     "text": [
      "['hallway', 11.25, 'kitchen', 18.0, 'living room', 20.0] ['bedroom', 10.75, 'bathroom', 9.5]\n"
     ]
    }
   ],
   "source": [
    "# Create the areas list\n",
    "areas = [\"hallway\", 11.25, \"kitchen\", 18.0, \"living room\", 20.0, \"bedroom\", 10.75, \"bathroom\", 9.50]\n",
    "\n",
    "# Use slicing to create downstairs\n",
    "downstairs=areas[0:6]\n",
    "\n",
    "# Use slicing to create upstairs\n",
    "upstairs=areas[6:]\n",
    "\n",
    "# Print out downstairs and upstairs\n",
    "print(downstairs,upstairs)"
   ]
  },
  {
   "cell_type": "markdown",
   "id": "2a44f198",
   "metadata": {},
   "source": [
    "## Slicing and dicing 2\n",
    "However, it's also possible not to specify these indexes. If you don't specify the begin index, Python figures out that you want to start your slice at the beginning of your list. If you don't specify the end index, the slice will go all the way to the last element of your list. To experiment with this, try the following commands in the IPython Shell:\n",
    "\n",
    "x = [\"a\", \"b\", \"c\", \"d\"]\n",
    "\n",
    "x[:2]\n",
    "\n",
    "x[2:]\n",
    "\n",
    "x[:]"
   ]
  },
  {
   "cell_type": "code",
   "execution_count": 4,
   "id": "b4c3e7dd",
   "metadata": {},
   "outputs": [
    {
     "name": "stdout",
     "output_type": "stream",
     "text": [
      "['hallway', 11.25, 'kitchen', 18.0, 'living room', 20.0] ['bedroom', 10.75, 'bathroom', 9.5]\n"
     ]
    }
   ],
   "source": [
    "# Create the areas list\n",
    "areas = [\"hallway\", 11.25, \"kitchen\", 18.0, \"living room\", 20.0, \"bedroom\", 10.75, \"bathroom\", 9.50]\n",
    "\n",
    "# Alternative slicing to create downstairs\n",
    "downstairs=areas[:6]\n",
    "\n",
    "# Alternative slicing to create upstairs\n",
    "upstairs=areas[6:]\n",
    "print(downstairs,upstairs)"
   ]
  },
  {
   "cell_type": "markdown",
   "id": "0b3705e8",
   "metadata": {},
   "source": [
    "## Subsetting lists of lists\n",
    "You saw before that a Python list can contain practically anything; even other lists! To subset lists of lists, you can use the same technique as before: square brackets. Try out the commands in the following code sample in the IPython Shell:"
   ]
  },
  {
   "cell_type": "code",
   "execution_count": 14,
   "id": "f630c2dd",
   "metadata": {},
   "outputs": [
    {
     "name": "stdout",
     "output_type": "stream",
     "text": [
      "g \n",
      " ['g', 'h']\n"
     ]
    }
   ],
   "source": [
    "\n",
    "x = [[\"a\", \"b\", \"c\"],\n",
    "     [\"d\", \"e\", \"f\"],\n",
    "     [\"g\", \"h\", \"i\"]]\n",
    "item1=x[2][0]\n",
    "item2=x[2][:2]\n",
    "\n",
    "print(item1,'\\n',item2)"
   ]
  },
  {
   "cell_type": "markdown",
   "id": "c0e9a1f8",
   "metadata": {},
   "source": [
    "## Replace list elements\n",
    "Replacing list elements is pretty easy. Simply subset the list and assign new values to the subset. You can select single elements or you can change entire list slices at once.\n",
    "\n",
    "Use the IPython Shell to experiment with the commands below. Can you tell what's happening and why?\n",
    "\n",
    "x = [\"a\", \"b\", \"c\", \"d\"]\n",
    "\n",
    "x[1] = \"r\"\n",
    "\n",
    "x[2:] = [\"s\", \"t\"]\n"
   ]
  },
  {
   "cell_type": "code",
   "execution_count": 17,
   "id": "683ce4ee",
   "metadata": {},
   "outputs": [
    {
     "name": "stdout",
     "output_type": "stream",
     "text": [
      "['hallway', 11.25, 'kitchen', 18.0, 'chill zone', 20.0, 'bedroom', 10.75, 'bathroom', 10.5]\n"
     ]
    }
   ],
   "source": [
    "# Create the areas list\n",
    "areas = [\"hallway\", 11.25, \"kitchen\", 18.0, \"living room\", 20.0, \"bedroom\", 10.75, \"bathroom\", 9.50]\n",
    "\n",
    "# Correct the bathroom area\n",
    "\n",
    "areas[-1]= 10.50\n",
    "\n",
    "# Change \"living room\" to \"chill zone\"\n",
    "\n",
    "areas[4]='chill zone'\n",
    "\n",
    "print(areas)"
   ]
  },
  {
   "cell_type": "markdown",
   "id": "e969a242",
   "metadata": {},
   "source": [
    "## Extend a list\n",
    "If you can change elements in a list, you sure want to be able to add elements to it, right? You can use the + operator:\n",
    "\n",
    "x = [\"a\", \"b\", \"c\", \"d\"]\n",
    "\n",
    "y = x + [\"e\", \"f\"]\n",
    "\n",
    "You just won the lottery, awesome! You decide to build a poolhouse and a garage. Can you add the information to the areas list?"
   ]
  },
  {
   "cell_type": "code",
   "execution_count": 21,
   "id": "31ea7e98",
   "metadata": {},
   "outputs": [
    {
     "name": "stdout",
     "output_type": "stream",
     "text": [
      "['hallway', 11.25, 'kitchen', 18.0, 'chill zone', 20.0, 'bedroom', 10.75, 'bathroom', 10.5, 'poolhouse', 24.5]\n",
      "['hallway', 11.25, 'kitchen', 18.0, 'chill zone', 20.0, 'bedroom', 10.75, 'bathroom', 10.5, 'poolhouse', 24.5, 'garage', 15.45]\n"
     ]
    }
   ],
   "source": [
    "# Create the areas list and make some changes\n",
    "areas = [\"hallway\", 11.25, \"kitchen\", 18.0, \"chill zone\", 20.0,\n",
    "         \"bedroom\", 10.75, \"bathroom\", 10.50]\n",
    "\n",
    "# Add poolhouse data to areas, new list is areas_1\n",
    "areas_1=areas+[\"poolhouse\", 24.5]\n",
    "\n",
    "# Add garage data to areas_1, new list is areas_2\n",
    "areas_2=areas_1+[\"garage\", 15.45]\n",
    "\n",
    "print(areas_1)\n",
    "print(areas_2)"
   ]
  },
  {
   "cell_type": "markdown",
   "id": "d420275c",
   "metadata": {},
   "source": [
    "## Delete list elements\n",
    "Finally, you can also remove elements from your list. You can do this with the del statement:\n",
    "\n",
    "x = [\"a\", \"b\", \"c\", \"d\"]\n",
    "\n",
    "del(x[1])\n",
    "\n",
    "Pay attention here: as soon as you remove an element from a list, the indexes of the elements that come after the deleted element all change!\n",
    "\n",
    "Remove poolhouse and float from the areas list:"
   ]
  },
  {
   "cell_type": "code",
   "execution_count": 22,
   "id": "b3360662",
   "metadata": {},
   "outputs": [
    {
     "name": "stdout",
     "output_type": "stream",
     "text": [
      "['hallway', 11.25, 'kitchen', 18.0, 'chill zone', 20.0, 'bedroom', 10.75, 'bathroom', 10.5, 'garage', 15.45]\n"
     ]
    }
   ],
   "source": [
    "areas = [\"hallway\", 11.25, \"kitchen\", 18.0,\n",
    "        \"chill zone\", 20.0, \"bedroom\", 10.75,\n",
    "         \"bathroom\", 10.50, \"poolhouse\", 24.5,\n",
    "         \"garage\", 15.45]\n",
    "\n",
    "del(areas[-4:-2])\n",
    "\n",
    "print(areas)"
   ]
  },
  {
   "cell_type": "markdown",
   "id": "46ccbbd8",
   "metadata": {},
   "source": [
    "## Inner workings of lists\n",
    "At the end of the video, Hugo explained how Python lists work behind the scenes. In this exercise you'll get some hands-on experience with this.\n",
    "\n",
    "The Python code in the script already creates a list with the name areas and a copy named areas_copy. Next, the first element in the areas_copy list is changed and the areas list is printed out. If you hit Run Code you'll see that, although you've changed areas_copy, the change also takes effect in the areas list. That's because areas and areas_copy point to the same list.\n",
    "\n",
    "If you want to prevent changes in areas_copy from also taking effect in areas, you'll have to do a more explicit copy of the areas list. <b> You can do this with list() or by using [:] </b>"
   ]
  },
  {
   "cell_type": "code",
   "execution_count": 23,
   "id": "f5434ec3",
   "metadata": {},
   "outputs": [
    {
     "name": "stdout",
     "output_type": "stream",
     "text": [
      "[5.0, 18.0, 20.0, 10.75, 9.5]\n"
     ]
    }
   ],
   "source": [
    "# Create list areas\n",
    "areas = [11.25, 18.0, 20.0, 10.75, 9.50]\n",
    "\n",
    "# Create areas_copy\n",
    "areas_copy = areas\n",
    "\n",
    "# Change areas_copy\n",
    "areas_copy[0] = 5.0\n",
    "\n",
    "# Print areas\n",
    "print(areas)"
   ]
  },
  {
   "cell_type": "code",
   "execution_count": 24,
   "id": "0460b003",
   "metadata": {},
   "outputs": [
    {
     "name": "stdout",
     "output_type": "stream",
     "text": [
      "[11.25, 18.0, 20.0, 10.75, 9.5]\n"
     ]
    }
   ],
   "source": [
    "# Create list areas\n",
    "areas = [11.25, 18.0, 20.0, 10.75, 9.50]\n",
    "\n",
    "# Create areas_copy\n",
    "areas_copy = list(areas)\n",
    "\n",
    "# Change areas_copy\n",
    "areas_copy[0] = 5.0\n",
    "\n",
    "# Print areas\n",
    "print(areas)"
   ]
  },
  {
   "cell_type": "markdown",
   "id": "409710f6",
   "metadata": {},
   "source": [
    "## Familiar functions\n",
    "Out of the box, Python offers a bunch of built-in functions to make your life as a data scientist easier. You already know two such functions: print() and type(). You've also used the functions str(), int(), bool() and float() to switch between data types. These are built-in functions as well.\n",
    "\n",
    "Calling a function is easy. To get the type of 3.0 and store the output as a new variable, result, you can use the following:\n",
    "\n",
    "result = type(3.0)\n",
    "The general recipe for calling functions and saving the result to a variable is thus:\n",
    "\n",
    "output = function_name(input)"
   ]
  },
  {
   "cell_type": "code",
   "execution_count": 25,
   "id": "3a46695b",
   "metadata": {},
   "outputs": [
    {
     "name": "stdout",
     "output_type": "stream",
     "text": [
      "<class 'list'>\n",
      "4\n"
     ]
    }
   ],
   "source": [
    "# Create variables var1 and var2\n",
    "var1 = [1, 2, 3, 4]\n",
    "var2 = True\n",
    "\n",
    "# Print out type of var1\n",
    "print(type(var1))\n",
    "\n",
    "# Print out length of var1\n",
    "print(len(var1))\n",
    "\n",
    "# Convert var2 to an integer: out2\n",
    "out2 = int(var2)"
   ]
  },
  {
   "cell_type": "markdown",
   "id": "cf27cc2e",
   "metadata": {},
   "source": [
    "## Help!\n",
    "Maybe you already know the name of a Python function, but you still have to figure out how to use it. Ironically, you have to ask for information about a function with another function: help(). In IPython specifically, you can also use ? before the function name.\n",
    "\n",
    "To get help on the max() function, for example, you can use one of these calls:\n",
    "\n"
   ]
  },
  {
   "cell_type": "code",
   "execution_count": 27,
   "id": "10dec5aa",
   "metadata": {},
   "outputs": [
    {
     "name": "stdout",
     "output_type": "stream",
     "text": [
      "Help on built-in function max in module builtins:\n",
      "\n",
      "max(...)\n",
      "    max(iterable, *[, default=obj, key=func]) -> value\n",
      "    max(arg1, arg2, *args, *[, key=func]) -> value\n",
      "    \n",
      "    With a single iterable argument, return its biggest item. The\n",
      "    default keyword-only argument specifies an object to return if\n",
      "    the provided iterable is empty.\n",
      "    With two or more arguments, return the largest argument.\n",
      "\n"
     ]
    }
   ],
   "source": [
    "help(max)\n",
    "#?max"
   ]
  },
  {
   "cell_type": "markdown",
   "id": "e01dc062",
   "metadata": {},
   "source": [
    "## Multiple arguments\n",
    "In the previous exercise, you identified optional arguments by viewing the documentation with help(). You'll now apply this to change the behavior of the sorted() function.\n",
    "\n",
    "Have a look at the documentation of sorted() by typing help(sorted) in the IPython Shell.\n",
    "\n",
    "You'll see that sorted() takes three arguments: iterable, key, and reverse.\n",
    "\n",
    "key=None means that if you don't specify the key argument, it will be None. reverse=False means that if you don't specify the reverse argument, it will be False, by default.\n",
    "\n",
    "In this exercise, you'll only have to specify iterable and reverse, not key. The first input you pass to sorted() will be matched to the iterable argument, but what about the second input? To tell Python you want to specify reverse without changing anything about key, you can use = to assign it a new value:\n",
    "\n",
    "sorted(____, reverse=____)"
   ]
  },
  {
   "cell_type": "code",
   "execution_count": 28,
   "id": "370425ec",
   "metadata": {},
   "outputs": [
    {
     "name": "stdout",
     "output_type": "stream",
     "text": [
      "[20.0, 18.0, 11.25, 10.75, 9.5]\n"
     ]
    }
   ],
   "source": [
    "# Create lists first and second\n",
    "first = [11.25, 18.0, 20.0]\n",
    "second = [10.75, 9.50]\n",
    "##LIST\n",
    "# Paste together first and second: full\n",
    "\n",
    "full=first +second\n",
    "\n",
    "# Sort full in descending order: full_sorted\n",
    "\n",
    "full_sorted= sorted(full,reverse=True)\n",
    "\n",
    "# Print out full_sorted\n",
    "print(full_sorted)"
   ]
  },
  {
   "cell_type": "markdown",
   "id": "5c4159dd",
   "metadata": {},
   "source": [
    "## String Functions"
   ]
  },
  {
   "cell_type": "code",
   "execution_count": 2,
   "id": "b2f9596e",
   "metadata": {},
   "outputs": [
    {
     "name": "stdout",
     "output_type": "stream",
     "text": [
      "poolhouse\n",
      "POOLHOUSE\n",
      "3\n"
     ]
    }
   ],
   "source": [
    "# string to experiment with: place\n",
    "place = \"poolhouse\"\n",
    "\n",
    "# Use upper() on place: place_up\n",
    "place_up=place.upper()\n",
    "\n",
    "# Print out place and place_up\n",
    "print(place)\n",
    "\n",
    "print(place_up)\n",
    "# Print out the number of o's in place\n",
    "print(place.count('o'))"
   ]
  },
  {
   "cell_type": "markdown",
   "id": "a44c36ae",
   "metadata": {},
   "source": [
    "## List Methods\n",
    "Strings are not the only Python types that have methods associated with them. Lists, floats, integers and booleans are also types that come packaged with a bunch of useful methods. In this exercise, you'll be experimenting with:\n",
    "\n",
    "index(), to get the index of the first element of a list that matches its input and\n",
    "count(), to get the number of times an element appears in a list."
   ]
  },
  {
   "cell_type": "code",
   "execution_count": 3,
   "id": "cf6bba67",
   "metadata": {},
   "outputs": [
    {
     "name": "stdout",
     "output_type": "stream",
     "text": [
      "2\n",
      "1\n"
     ]
    }
   ],
   "source": [
    "# Create list areas\n",
    "areas = [11.25, 18.0, 20.0, 10.75, 9.50]\n",
    "\n",
    "# Print out the index of the element 20.0\n",
    "print(areas.index(20.0))\n",
    "\n",
    "# Print out how often 9.50 appears in areas\n",
    "print(areas.count(9.50))"
   ]
  },
  {
   "cell_type": "markdown",
   "id": "9cffea15",
   "metadata": {},
   "source": [
    "## List Methods (2)\n",
    "Most list methods will change the list they're called on. Examples are:\n",
    "\n",
    "append(), that adds an element to the list it is called on,\n",
    "\n",
    "remove(), that removes the first element of a list that matches the input, and\n",
    "\n",
    "reverse(), that reverses the order of the elements in the list it is called on.\n"
   ]
  },
  {
   "cell_type": "code",
   "execution_count": 4,
   "id": "d39848c3",
   "metadata": {},
   "outputs": [
    {
     "name": "stdout",
     "output_type": "stream",
     "text": [
      "[11.25, 18.0, 20.0, 10.75, 9.5, 24.5, 15.45]\n",
      "[15.45, 24.5, 9.5, 10.75, 20.0, 18.0, 11.25]\n"
     ]
    }
   ],
   "source": [
    "# Create list areas\n",
    "areas = [11.25, 18.0, 20.0, 10.75, 9.50]\n",
    "\n",
    "# Use append twice to add poolhouse and garage size\n",
    "\n",
    "areas.append(24.5)\n",
    "areas.append(15.45)\n",
    "\n",
    "# Print out areas\n",
    "\n",
    "print(areas)\n",
    "\n",
    "# Reverse the orders of the elements in areas\n",
    "areas.reverse()\n",
    "\n",
    "# Print out areas\n",
    "\n",
    "print(areas)"
   ]
  },
  {
   "cell_type": "markdown",
   "id": "4fe9c74c",
   "metadata": {},
   "source": [
    "## Import package\n",
    "As a data scientist, some notions of geometry never hurt. Let's refresh some of the basics.\n",
    "\n",
    "For a fancy clustering algorithm, you want to find the circumference, \n",
    ", and area, \n",
    ", of a circle. When the radius of the circle is r, you can calculate \n",
    " and \n",
    " as:\n",
    "\n",
    "\n",
    "In Python, the symbol for exponentiation is **. This operator raises the number to its left to the power of the number to its right. For example 3**4 is 3 to the power of 4 and will give 81.\n",
    "\n",
    "To use the constant pi, you'll need the math package. A variable r is already coded in the script. Fill in the code to calculate C and A and see how the print() functions create some nice printouts."
   ]
  },
  {
   "cell_type": "code",
   "execution_count": 5,
   "id": "784661ee",
   "metadata": {},
   "outputs": [
    {
     "name": "stdout",
     "output_type": "stream",
     "text": [
      "Circumference: 2.701769682087222\n",
      "Area: 0.5808804816487527\n"
     ]
    }
   ],
   "source": [
    "# Import the math package\n",
    "import math\n",
    "\n",
    "# Definition of radius\n",
    "r = 0.43\n",
    "\n",
    "# Calculate C\n",
    "C = 2*math.pi*r\n",
    "\n",
    "# Calculate A\n",
    "A = math.pi*r**2\n",
    "\n",
    "# Build printout\n",
    "print(\"Circumference: \" + str(C))\n",
    "print(\"Area: \" + str(A))"
   ]
  },
  {
   "cell_type": "markdown",
   "id": "29e1267a",
   "metadata": {},
   "source": [
    "## Selective import\n",
    "General imports, like import math, make all functionality from the math package available to you. However, if you decide to only use a specific part of a package, you can always make your import more selective:\n",
    "\n",
    "from math import pi"
   ]
  },
  {
   "cell_type": "code",
   "execution_count": 6,
   "id": "a2dffd09",
   "metadata": {},
   "outputs": [
    {
     "name": "stdout",
     "output_type": "stream",
     "text": [
      "40317.10572106901\n"
     ]
    }
   ],
   "source": [
    "# Import radians function of math package\n",
    "from math import radians\n",
    "\n",
    "\n",
    "# Definition of radius\n",
    "r = 192500\n",
    "\n",
    "# Travel distance of Moon over 12 degrees. Store in dist.\n",
    "dist=radians(r*12)\n",
    "\n",
    "# Print out dist\n",
    "print(dist)"
   ]
  },
  {
   "cell_type": "markdown",
   "id": "cc3d347b",
   "metadata": {},
   "source": [
    "## Numpy Array"
   ]
  },
  {
   "cell_type": "code",
   "execution_count": 8,
   "id": "45d75e93",
   "metadata": {},
   "outputs": [
    {
     "name": "stdout",
     "output_type": "stream",
     "text": [
      "<class 'numpy.ndarray'>\n"
     ]
    }
   ],
   "source": [
    "# Import the numpy package as np\n",
    "import numpy as np\n",
    "\n",
    "# Create list baseball\n",
    "baseball = [180, 215, 210, 210, 188, 176, 209, 200]\n",
    "\n",
    "# Create a numpy array from baseball: np_baseball\n",
    "np_baseball=np.array(baseball)\n",
    "\n",
    "# Print out type of np_baseball\n",
    "print(type(np_baseball))"
   ]
  },
  {
   "cell_type": "markdown",
   "id": "fd34f7a4",
   "metadata": {},
   "source": [
    "## Baseball players' height\n",
    "You are a huge baseball fan. You decide to call the MLB (Major League Baseball) and ask around for some more statistics on the height of the main players. They pass along data on more than a thousand players, which is stored as a regular Python list: height_in. The height is expressed in inches. Can you make a numpy array out of it and convert the units to meters?"
   ]
  },
  {
   "cell_type": "code",
   "execution_count": 9,
   "id": "59962f6e",
   "metadata": {},
   "outputs": [
    {
     "name": "stdout",
     "output_type": "stream",
     "text": [
      "[74 74 72 72 73 69 69 71]\n",
      "[1.8796 1.8796 1.8288 1.8288 1.8542 1.7526 1.7526 1.8034]\n"
     ]
    }
   ],
   "source": [
    "\n",
    "height_in=[74,74,72,72,73,69,69,71]\n",
    "\n",
    "# Create a numpy array from height_in: np_height_in\n",
    "np_height_in = np.array(height_in)\n",
    "\n",
    "# Print out np_height_in\n",
    "print(np_height_in)\n",
    "\n",
    "# Convert np_height_in to m: np_height_m\n",
    "np_height_m = np_height_in * 0.0254\n",
    "\n",
    "# Print np_height_m\n",
    "print(np_height_m)"
   ]
  },
  {
   "cell_type": "markdown",
   "id": "8b0cd6fd",
   "metadata": {},
   "source": [
    "## Baseball player's BMI\n",
    "\n",
    "The MLB also offers to let you analyze their weight data. Again, both are available as regular Python lists: height_in and weight_lb. height_in is in inches and weight_lb is in pounds.\n",
    "\n",
    "It's now possible to calculate the BMI of each baseball player. Python code to convert height_in to a numpy array with the correct units is already available in the workspace."
   ]
  },
  {
   "cell_type": "code",
   "execution_count": 10,
   "id": "fd1fbc6b",
   "metadata": {},
   "outputs": [
    {
     "name": "stdout",
     "output_type": "stream",
     "text": [
      "[23.11037639 27.60406069 28.48080465 28.48080465 24.80333518 25.99036864\n",
      " 30.86356276 27.89402921]\n"
     ]
    }
   ],
   "source": [
    "height_in=[74,74,72,72,73,69,69,71]\n",
    "weight_lb=[180, 215, 210, 210, 188, 176, 209, 200]\n",
    "\n",
    "# Create array from height_in with metric units: np_height_m\n",
    "np_height_m = np.array(height_in) * 0.0254\n",
    "\n",
    "# Create array from weight_lb with metric units: np_weight_kg\n",
    "np_weight_kg = np.array(weight_lb) * 0.453592\n",
    "\n",
    "# Calculate the BMI: bmi\n",
    "bmi = np_weight_kg / (np_height_m**2)\n",
    "\n",
    "# Print out bmi\n",
    "print(bmi)"
   ]
  },
  {
   "cell_type": "markdown",
   "id": "a8c7de5d",
   "metadata": {},
   "source": [
    "## Lightweight baseball players\n",
    "To subset both regular Python lists and numpy arrays, you can use square brackets:\n",
    "<code>  \n",
    "x = [4 , 9 , 6, 3, 1]\n",
    "x[1]\n",
    "import numpy as np\n",
    "y = np.array(x)\n",
    "y[1]\n",
    "</code>\n",
    "\n",
    "For numpy specifically, you can also use boolean numpy arrays:\n",
    "<code>\n",
    "high = y > 5\n",
    "y[high] </code>"
   ]
  },
  {
   "cell_type": "code",
   "execution_count": 16,
   "id": "e62b3f12",
   "metadata": {},
   "outputs": [
    {
     "name": "stdout",
     "output_type": "stream",
     "text": [
      "[ True False False False  True False False False]\n",
      "[23.11037639 24.80333518]\n"
     ]
    }
   ],
   "source": [
    "# Calculate the BMI: bmi\n",
    "height_in=[74,74,72,72,73,69,69,71]\n",
    "weight_lb=[180, 215, 210, 210, 188, 176, 209, 200]\n",
    "\n",
    "np_height_m = np.array(height_in) * 0.0254\n",
    "np_weight_kg = np.array(weight_lb) * 0.453592\n",
    "bmi = np_weight_kg / np_height_m ** 2\n",
    "\n",
    "# Create the light array\n",
    "light=bmi<25\n",
    "\n",
    "# Print out light\n",
    "print(light)\n",
    "\n",
    "# Print out BMIs of all baseball players whose BMI is below 21\n",
    "print(bmi[light])"
   ]
  },
  {
   "cell_type": "markdown",
   "id": "204f1dec",
   "metadata": {},
   "source": [
    "## NumPy Side Effects\n",
    "\n",
    "First of all, numpy arrays cannot contain elements with different types. If you try to build such a list, some of the elements' types are changed to end up with a homogeneous list. This is known as type coercion.\n",
    "\n",
    "Second, the typical arithmetic operators, such as +, -, * and / have a different meaning for regular Python lists and numpy arrays."
   ]
  },
  {
   "cell_type": "code",
   "execution_count": 17,
   "id": "6dd164cb",
   "metadata": {},
   "outputs": [
    {
     "data": {
      "text/plain": [
       "array([4, 5, 2])"
      ]
     },
     "execution_count": 17,
     "metadata": {},
     "output_type": "execute_result"
    }
   ],
   "source": [
    "np.array([True, 1, 2]) + np.array([3, 4, False])"
   ]
  },
  {
   "cell_type": "code",
   "execution_count": 18,
   "id": "6b01108d",
   "metadata": {},
   "outputs": [
    {
     "data": {
      "text/plain": [
       "array([4, 5, 2])"
      ]
     },
     "execution_count": 18,
     "metadata": {},
     "output_type": "execute_result"
    }
   ],
   "source": [
    "np.array([4, 3, 0]) + np.array([0, 2, 2])"
   ]
  },
  {
   "cell_type": "markdown",
   "id": "3e036a11",
   "metadata": {},
   "source": [
    "## Subsetting NumPy Arrays\n",
    "You've seen it with your own eyes: Python lists and numpy arrays sometimes behave differently. Luckily, there are still certainties in this world. For example, subsetting (using the square bracket notation on lists or arrays) works exactly the same. To see this for yourself, try the following lines of code in the IPython Shell:\n",
    "<code>   \n",
    "x = [\"a\", \"b\", \"c\"]\n",
    "x[1]\n",
    "np_x = np.array(x)\n",
    "np_x[1]\n",
    "</code>"
   ]
  },
  {
   "cell_type": "code",
   "execution_count": 19,
   "id": "bd997449",
   "metadata": {},
   "outputs": [
    {
     "name": "stdout",
     "output_type": "stream",
     "text": [
      "176\n",
      "[69 69 71]\n"
     ]
    }
   ],
   "source": [
    "height_in=[74,74,72,72,73,69,69,71]\n",
    "weight_lb=[180, 215, 210, 210, 188, 176, 209, 200]\n",
    "\n",
    "# Store weight and height lists as numpy arrays\n",
    "np_weight_lb = np.array(weight_lb)\n",
    "np_height_in = np.array(height_in)\n",
    "\n",
    "# Print out the weight at index 5\n",
    "print(np_weight_lb[5])\n",
    "\n",
    "# Print out sub-array of np_height_in: index 5 up to and including index 8\n",
    "print(np_height_in[5:9])"
   ]
  },
  {
   "cell_type": "markdown",
   "id": "b123b8ee",
   "metadata": {},
   "source": [
    "## 2D NumPy Array\n",
    "\n",
    "In this exercise, baseball is a list of lists. The main list contains 4 elements. Each of these elements is a list containing the height and the weight of 4 baseball players, in this order."
   ]
  },
  {
   "cell_type": "code",
   "execution_count": 20,
   "id": "9d24ad49",
   "metadata": {},
   "outputs": [
    {
     "name": "stdout",
     "output_type": "stream",
     "text": [
      "<class 'numpy.ndarray'>\n",
      "(4, 2)\n"
     ]
    }
   ],
   "source": [
    "# Import numpy\n",
    "import numpy as np\n",
    "\n",
    "# Create baseball, a list of lists\n",
    "baseball = [[180, 78.4],\n",
    "            [215, 102.7],\n",
    "            [210, 98.5],\n",
    "            [188, 75.2]]\n",
    "\n",
    "# Create a 2D numpy array from baseball: np_baseball\n",
    "\n",
    "np_baseball=np.array(baseball)\n",
    "# Print out the type of np_baseball\n",
    "\n",
    "print(type(np_baseball))\n",
    "# Print out the shape of np_baseball\n",
    "print(np_baseball.shape)"
   ]
  },
  {
   "cell_type": "markdown",
   "id": "08ef7536",
   "metadata": {},
   "source": [
    "## Subsetting 2D NumPy Arrays\n",
    "If your 2D numpy array has a regular structure, i.e. each row and column has a fixed number of values, complicated ways of subsetting become very easy. Have a look at the code below where the elements \"a\" and \"c\" are extracted from a list of lists.\n",
    "\n",
    "regular list of lists\n",
    "<code>\n",
    "x = [[\"a\", \"b\"], [\"c\", \"d\"]]\n",
    "[x[0][0], x[1][0]]\n",
    "np_x = np.array(x)\n",
    "np_x[:, 0]\n",
    "</code>\n",
    "\n",
    "For regular Python lists, this is a real pain. For 2D numpy arrays, however, it's pretty intuitive!<b> The indexes before the comma refer to the rows, while those after the comma refer to the columns. The : is for slicing; in this example, it tells Python to include all rows.</b>"
   ]
  },
  {
   "cell_type": "code",
   "execution_count": 23,
   "id": "5c0157eb",
   "metadata": {},
   "outputs": [
    {
     "name": "stdout",
     "output_type": "stream",
     "text": [
      "[ 71 180]\n",
      "69\n"
     ]
    }
   ],
   "source": [
    "baseball=[[74, 180], [74, 215], [72, 210], [72, 210], [73, 188], [69, 176], [69, 209], [71, 200], [76, 231], [71, 180], [73, 188], [73, 180], [74, 185], [74, 160], [69, 180], [70, 185], [73, 189], [75, 185], [78, 219], [79, 230], [76, 205], [74, 230], [76, 195]]\n",
    "\n",
    "# Create np_baseball (2 cols)\n",
    "np_baseball = np.array(baseball)\n",
    "\n",
    "# Print out the 10th row of np_baseball\n",
    "print(np_baseball[9,:])\n",
    "\n",
    "# Select the entire second column of np_baseball: np_weight_lb\n",
    "np_weight_lb=np_baseball[:,1]\n",
    "\n",
    "# Print out height of 15th player\n",
    "print(np_baseball[14,0])"
   ]
  },
  {
   "cell_type": "markdown",
   "id": "9c97ecbf",
   "metadata": {},
   "source": [
    "## 2D Arithmetic\n",
    "Remember how you calculated the Body Mass Index for all baseball players? numpy was able to perform all calculations element-wise (i.e. element by element). For 2D numpy arrays this isn't any different! You can combine matrices with single numbers, with vectors, and with other matrices.\n",
    "\n",
    "Execute the code below in the IPython shell and see if you understand:\n",
    "\n",
    "<code>\n",
    "np_mat = np.array([[1, 2],\n",
    "                   [3, 4],\n",
    "                   [5, 6]])\n",
    "np_mat * 2\n",
    "np_mat + np.array([10, 10])\n",
    "np_mat + np_mat</code>"
   ]
  },
  {
   "cell_type": "code",
   "execution_count": 25,
   "id": "47b1cc7c",
   "metadata": {},
   "outputs": [
    {
     "data": {
      "text/plain": [
       "array([[ 2,  4],\n",
       "       [ 6,  8],\n",
       "       [10, 12]])"
      ]
     },
     "execution_count": 25,
     "metadata": {},
     "output_type": "execute_result"
    }
   ],
   "source": [
    "np_mat = np.array([[1, 2],\n",
    "                   [3, 4],\n",
    "                   [5, 6]])\n",
    "\n",
    "np_mat + np_mat"
   ]
  },
  {
   "cell_type": "code",
   "execution_count": 26,
   "id": "89c6b7cf",
   "metadata": {},
   "outputs": [
    {
     "data": {
      "text/plain": [
       "array([[11, 12],\n",
       "       [13, 14],\n",
       "       [15, 16]])"
      ]
     },
     "execution_count": 26,
     "metadata": {},
     "output_type": "execute_result"
    }
   ],
   "source": [
    "\n",
    "np_mat + np.array([10, 10])"
   ]
  },
  {
   "cell_type": "code",
   "execution_count": 27,
   "id": "1da37b2e",
   "metadata": {},
   "outputs": [
    {
     "data": {
      "text/plain": [
       "array([[ 2,  4],\n",
       "       [ 6,  8],\n",
       "       [10, 12]])"
      ]
     },
     "execution_count": 27,
     "metadata": {},
     "output_type": "execute_result"
    }
   ],
   "source": [
    "np_mat * 2"
   ]
  },
  {
   "cell_type": "markdown",
   "id": "8a463891",
   "metadata": {},
   "source": [
    "## Average versus median\n",
    "You now know how to use numpy functions to get a better feeling for your data. It basically comes down to importing numpy and then calling several simple functions on the numpy arrays:\n",
    "\n",
    "<code>\n",
    "x = [1, 4, 8, 10, 12]\n",
    "np.mean(x)\n",
    "np.median(x) </code>"
   ]
  },
  {
   "cell_type": "code",
   "execution_count": 29,
   "id": "7e49b66c",
   "metadata": {},
   "outputs": [
    {
     "name": "stdout",
     "output_type": "stream",
     "text": [
      "7.0\n",
      "8.0\n"
     ]
    }
   ],
   "source": [
    "x = [1, 4, 8, 10, 12]\n",
    "print(np.mean(x))\n",
    "print(np.median(x) )"
   ]
  },
  {
   "cell_type": "markdown",
   "id": "35ef7796",
   "metadata": {},
   "source": [
    "## Mean ,Median,standard deviation ,correlation"
   ]
  },
  {
   "cell_type": "code",
   "execution_count": 30,
   "id": "e13d0047",
   "metadata": {},
   "outputs": [
    {
     "name": "stdout",
     "output_type": "stream",
     "text": [
      "Average: 73.26086956521739\n",
      "Median: 73.0\n",
      "Standard Deviation: 2.6575142243367176\n",
      "Correlation: [[1.         0.45685389]\n",
      " [0.45685389 1.        ]]\n"
     ]
    }
   ],
   "source": [
    "# Print mean height (first column)\n",
    "avg = np.mean(np_baseball[:,0])\n",
    "print(\"Average: \" + str(avg))\n",
    "\n",
    "# Print median height.\n",
    "med = np.median(np_baseball[:,0])\n",
    "print(\"Median: \" + str(med))\n",
    "\n",
    "# Print out the standard deviation on height. \n",
    "stddev = np.std(np_baseball[:,0])\n",
    "print(\"Standard Deviation: \" + str(stddev))\n",
    "\n",
    "# Print out correlation between first and second column. \n",
    "\n",
    "corr = np.corrcoef(np_baseball[:,0], np_baseball[:,1])\n",
    "print(\"Correlation: \" + str(corr))"
   ]
  },
  {
   "cell_type": "markdown",
   "id": "c52288bd",
   "metadata": {},
   "source": [
    "## soccer data"
   ]
  },
  {
   "cell_type": "code",
   "execution_count": 31,
   "id": "0aa7d1fb",
   "metadata": {},
   "outputs": [
    {
     "name": "stdout",
     "output_type": "stream",
     "text": [
      "Median height of goalkeepers: 191.0\n",
      "Median height of other players: 184.0\n"
     ]
    }
   ],
   "source": [
    "\n",
    "\n",
    "# Convert positions and heights to numpy arrays: np_positions, np_heights\n",
    "positions = ['GK', 'M', 'A', 'D']\n",
    "heights = [191, 184, 185, 180]\n",
    "np_positions=np.array(positions)\n",
    "np_heights=np.array(heights)\n",
    "\n",
    "# Heights of the goalkeepers: gk_heights\n",
    "gk_heights=np_heights[np_positions == 'GK']\n",
    "\n",
    "# Heights of the other players: other_heights\n",
    "other_heights=np_heights[np_positions != 'GK']\n",
    "\n",
    "# Print out the median height of goalkeepers. Replace 'None'\n",
    "print(\"Median height of goalkeepers: \" + str(np.median(gk_heights)))\n",
    "\n",
    "# Print out the median height of other players. Replace 'None'\n",
    "print(\"Median height of other players: \" + str(np.median(other_heights)))"
   ]
  },
  {
   "cell_type": "code",
   "execution_count": null,
   "id": "e2bebba7",
   "metadata": {},
   "outputs": [],
   "source": []
  }
 ],
 "metadata": {
  "kernelspec": {
   "display_name": "Python 3 (ipykernel)",
   "language": "python",
   "name": "python3"
  },
  "language_info": {
   "codemirror_mode": {
    "name": "ipython",
    "version": 3
   },
   "file_extension": ".py",
   "mimetype": "text/x-python",
   "name": "python",
   "nbconvert_exporter": "python",
   "pygments_lexer": "ipython3",
   "version": "3.10.10"
  }
 },
 "nbformat": 4,
 "nbformat_minor": 5
}
